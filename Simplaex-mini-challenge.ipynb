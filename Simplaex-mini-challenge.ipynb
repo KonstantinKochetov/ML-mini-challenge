{
 "cells": [
  {
   "cell_type": "markdown",
   "metadata": {},
   "source": [
    "## Generate regression problem, scaling, split the data, create evaluation function"
   ]
  },
  {
   "cell_type": "code",
   "execution_count": 1,
   "metadata": {},
   "outputs": [],
   "source": [
    "import sklearn\n",
    "import matplotlib\n",
    "from sklearn.datasets import make_regression\n",
    "from matplotlib import pyplot\n",
    "from sklearn.preprocessing import StandardScaler"
   ]
  },
  {
   "cell_type": "code",
   "execution_count": 2,
   "metadata": {},
   "outputs": [],
   "source": [
    "X_initial, y = make_regression(n_samples=10000, n_features=100, n_informative=10, noise=0.5)\n",
    "scaler = StandardScaler()\n",
    "X = scaler.fit_transform(X_initial)"
   ]
  },
  {
   "cell_type": "code",
   "execution_count": 3,
   "metadata": {},
   "outputs": [],
   "source": [
    "from sklearn.model_selection import train_test_split\n",
    "X_train, X_test, y_train, y_test = train_test_split(X, y, test_size=0.30, random_state=101)"
   ]
  },
  {
   "cell_type": "code",
   "execution_count": 4,
   "metadata": {},
   "outputs": [],
   "source": [
    "from sklearn.metrics import explained_variance_score\n",
    "from sklearn.metrics import r2_score\n",
    "from sklearn.metrics import mean_squared_error\n",
    "\n",
    "def evaluate(model, test_features, test_labels):\n",
    "    predictions = model.predict(test_features)\n",
    "    evs = explained_variance_score(test_labels, predictions, multioutput='raw_values')\n",
    "    mse = mean_squared_error(test_labels, predictions, multioutput='raw_values')\n",
    "    R2_score = r2_score(test_labels, predictions)\n",
    "    print('explained variance score = {}.'.format(evs))\n",
    "    print('mse = {}.'.format(mse))\n",
    "    print('r2 score = {:0.2f}%.'.format(R2_score))\n",
    "    return \"Evaluation ended\""
   ]
  },
  {
   "cell_type": "markdown",
   "metadata": {},
   "source": [
    "# Random Forest"
   ]
  },
  {
   "cell_type": "markdown",
   "metadata": {},
   "source": [
    "## Random Search of parameters for Random forest"
   ]
  },
  {
   "cell_type": "code",
   "execution_count": 5,
   "metadata": {},
   "outputs": [
    {
     "name": "stdout",
     "output_type": "stream",
     "text": [
      "{'n_estimators': [60, 64, 68, 73, 77, 82, 86, 91, 95, 100], 'max_features': ['auto', 'sqrt']}\n"
     ]
    },
    {
     "name": "stderr",
     "output_type": "stream",
     "text": [
      "/anaconda3/lib/python3.6/site-packages/sklearn/ensemble/weight_boosting.py:29: DeprecationWarning: numpy.core.umath_tests is an internal NumPy module and should not be imported. It will be removed in a future NumPy release.\n",
      "  from numpy.core.umath_tests import inner1d\n"
     ]
    }
   ],
   "source": [
    "import numpy as np\n",
    "from sklearn.ensemble import RandomForestRegressor\n",
    "from sklearn.model_selection import RandomizedSearchCV\n",
    "# Number of trees in random forest\n",
    "n_estimators = [int(x) for x in np.linspace(start = 60, stop = 100, num = 10)]\n",
    "# Number of features to consider at every split\n",
    "max_features = ['auto', 'sqrt']\n",
    "# Create the random grid\n",
    "random_grid = {'n_estimators': n_estimators,\n",
    "               'max_features': max_features}\n",
    "print(random_grid)"
   ]
  },
  {
   "cell_type": "code",
   "execution_count": 6,
   "metadata": {},
   "outputs": [
    {
     "name": "stdout",
     "output_type": "stream",
     "text": [
      "Fitting 3 folds for each of 20 candidates, totalling 60 fits\n",
      "[CV] n_estimators=60, max_features=auto ..............................\n",
      "[CV] n_estimators=60, max_features=auto ..............................\n",
      "[CV] n_estimators=60, max_features=auto ..............................\n",
      "[CV] n_estimators=64, max_features=auto ..............................\n",
      "[CV] ............... n_estimators=60, max_features=auto, total=  31.5s\n",
      "[CV] n_estimators=64, max_features=auto ..............................\n",
      "[CV] ............... n_estimators=60, max_features=auto, total=  31.7s\n",
      "[CV] n_estimators=64, max_features=auto ..............................\n",
      "[CV] ............... n_estimators=60, max_features=auto, total=  31.7s\n",
      "[CV] n_estimators=68, max_features=auto ..............................\n",
      "[CV] ............... n_estimators=64, max_features=auto, total=  34.0s\n",
      "[CV] n_estimators=68, max_features=auto ..............................\n",
      "[CV] ............... n_estimators=64, max_features=auto, total=  38.6s\n",
      "[CV] n_estimators=68, max_features=auto ..............................\n",
      "[CV] ............... n_estimators=64, max_features=auto, total=  38.6s\n",
      "[CV] n_estimators=73, max_features=auto ..............................\n",
      "[CV] ............... n_estimators=68, max_features=auto, total=  40.2s\n",
      "[CV] n_estimators=73, max_features=auto ..............................\n",
      "[CV] ............... n_estimators=68, max_features=auto, total=  41.1s\n",
      "[CV] n_estimators=73, max_features=auto ..............................\n",
      "[CV] ............... n_estimators=68, max_features=auto, total=  38.6s\n",
      "[CV] n_estimators=77, max_features=auto ..............................\n",
      "[CV] ............... n_estimators=73, max_features=auto, total=  43.2s\n",
      "[CV] n_estimators=77, max_features=auto ..............................\n",
      "[CV] ............... n_estimators=73, max_features=auto, total=  47.4s\n",
      "[CV] n_estimators=77, max_features=auto ..............................\n",
      "[CV] ............... n_estimators=73, max_features=auto, total=  49.3s\n",
      "[CV] n_estimators=82, max_features=auto ..............................\n",
      "[CV] ............... n_estimators=77, max_features=auto, total= 1.1min\n",
      "[CV] n_estimators=82, max_features=auto ..............................\n",
      "[CV] ............... n_estimators=77, max_features=auto, total= 1.1min\n",
      "[CV] n_estimators=82, max_features=auto ..............................\n",
      "[CV] ............... n_estimators=77, max_features=auto, total= 1.0min\n",
      "[CV] n_estimators=86, max_features=auto ..............................\n",
      "[CV] ............... n_estimators=82, max_features=auto, total= 1.1min\n",
      "[CV] n_estimators=86, max_features=auto ..............................\n",
      "[CV] ............... n_estimators=82, max_features=auto, total=  55.7s\n",
      "[CV] n_estimators=86, max_features=auto ..............................\n",
      "[CV] ............... n_estimators=82, max_features=auto, total=  55.7s\n",
      "[CV] n_estimators=91, max_features=auto ..............................\n",
      "[CV] ............... n_estimators=86, max_features=auto, total=  57.5s\n",
      "[CV] n_estimators=91, max_features=auto ..............................\n",
      "[CV] ............... n_estimators=86, max_features=auto, total=  56.3s\n",
      "[CV] n_estimators=91, max_features=auto ..............................\n",
      "[CV] ............... n_estimators=86, max_features=auto, total=  52.9s\n",
      "[CV] n_estimators=95, max_features=auto ..............................\n",
      "[CV] ............... n_estimators=91, max_features=auto, total=  56.3s\n",
      "[CV] n_estimators=95, max_features=auto ..............................\n",
      "[CV] ............... n_estimators=91, max_features=auto, total=  55.8s\n",
      "[CV] n_estimators=95, max_features=auto ..............................\n",
      "[CV] ............... n_estimators=91, max_features=auto, total=  56.1s\n",
      "[CV] n_estimators=100, max_features=auto .............................\n",
      "[CV] ............... n_estimators=95, max_features=auto, total=  56.7s\n",
      "[CV] n_estimators=100, max_features=auto .............................\n",
      "[CV] ............... n_estimators=95, max_features=auto, total=  57.2s\n",
      "[CV] n_estimators=100, max_features=auto .............................\n",
      "[CV] ............... n_estimators=95, max_features=auto, total=  57.3s\n",
      "[CV] n_estimators=60, max_features=sqrt ..............................\n",
      "[CV] ............... n_estimators=60, max_features=sqrt, total=   5.2s\n",
      "[CV] n_estimators=60, max_features=sqrt ..............................\n",
      "[CV] .............. n_estimators=100, max_features=auto, total= 1.0min\n",
      "[CV] n_estimators=60, max_features=sqrt ..............................\n",
      "[CV] ............... n_estimators=60, max_features=sqrt, total=   5.3s\n",
      "[CV] n_estimators=64, max_features=sqrt ..............................\n",
      "[CV] ............... n_estimators=60, max_features=sqrt, total=   5.3s\n",
      "[CV] n_estimators=64, max_features=sqrt ..............................\n",
      "[CV] ............... n_estimators=64, max_features=sqrt, total=   5.5s\n",
      "[CV] n_estimators=64, max_features=sqrt ..............................\n",
      "[CV] ............... n_estimators=64, max_features=sqrt, total=   5.2s\n",
      "[CV] n_estimators=68, max_features=sqrt ..............................\n"
     ]
    },
    {
     "name": "stderr",
     "output_type": "stream",
     "text": [
      "[Parallel(n_jobs=-1)]: Done  33 tasks      | elapsed:  6.2min\n"
     ]
    },
    {
     "name": "stdout",
     "output_type": "stream",
     "text": [
      "[CV] ............... n_estimators=64, max_features=sqrt, total=   5.3s\n",
      "[CV] n_estimators=68, max_features=sqrt ..............................\n",
      "[CV] ............... n_estimators=68, max_features=sqrt, total=   6.0s\n",
      "[CV] n_estimators=68, max_features=sqrt ..............................\n",
      "[CV] ............... n_estimators=68, max_features=sqrt, total=   6.0s\n",
      "[CV] n_estimators=73, max_features=sqrt ..............................\n",
      "[CV] ............... n_estimators=68, max_features=sqrt, total=   5.8s\n",
      "[CV] n_estimators=73, max_features=sqrt ..............................\n",
      "[CV] ............... n_estimators=73, max_features=sqrt, total=   6.3s\n",
      "[CV] n_estimators=73, max_features=sqrt ..............................\n",
      "[CV] ............... n_estimators=73, max_features=sqrt, total=   6.1s\n",
      "[CV] n_estimators=77, max_features=sqrt ..............................\n",
      "[CV] ............... n_estimators=73, max_features=sqrt, total=   6.0s\n",
      "[CV] n_estimators=77, max_features=sqrt ..............................\n",
      "[CV] ............... n_estimators=77, max_features=sqrt, total=   6.4s\n",
      "[CV] n_estimators=77, max_features=sqrt ..............................\n",
      "[CV] ............... n_estimators=77, max_features=sqrt, total=   6.3s\n",
      "[CV] n_estimators=82, max_features=sqrt ..............................\n",
      "[CV] .............. n_estimators=100, max_features=auto, total= 1.0min\n",
      "[CV] n_estimators=82, max_features=sqrt ..............................\n",
      "[CV] ............... n_estimators=77, max_features=sqrt, total=   6.2s\n",
      "[CV] n_estimators=82, max_features=sqrt ..............................\n",
      "[CV] ............... n_estimators=82, max_features=sqrt, total=   6.5s\n",
      "[CV] n_estimators=86, max_features=sqrt ..............................\n",
      "[CV] .............. n_estimators=100, max_features=auto, total= 1.0min\n",
      "[CV] n_estimators=86, max_features=sqrt ..............................\n",
      "[CV] ............... n_estimators=82, max_features=sqrt, total=   6.7s\n",
      "[CV] n_estimators=86, max_features=sqrt ..............................\n",
      "[CV] ............... n_estimators=82, max_features=sqrt, total=   6.7s\n",
      "[CV] n_estimators=91, max_features=sqrt ..............................\n",
      "[CV] ............... n_estimators=86, max_features=sqrt, total=   7.1s\n",
      "[CV] n_estimators=91, max_features=sqrt ..............................\n",
      "[CV] ............... n_estimators=86, max_features=sqrt, total=   7.2s\n",
      "[CV] n_estimators=91, max_features=sqrt ..............................\n",
      "[CV] ............... n_estimators=86, max_features=sqrt, total=   7.2s\n",
      "[CV] n_estimators=95, max_features=sqrt ..............................\n",
      "[CV] ............... n_estimators=91, max_features=sqrt, total=   7.5s\n",
      "[CV] n_estimators=95, max_features=sqrt ..............................\n",
      "[CV] ............... n_estimators=91, max_features=sqrt, total=   7.7s\n",
      "[CV] n_estimators=95, max_features=sqrt ..............................\n",
      "[CV] ............... n_estimators=91, max_features=sqrt, total=   7.6s\n",
      "[CV] n_estimators=100, max_features=sqrt .............................\n",
      "[CV] ............... n_estimators=95, max_features=sqrt, total=   7.8s\n",
      "[CV] n_estimators=100, max_features=sqrt .............................\n",
      "[CV] ............... n_estimators=95, max_features=sqrt, total=   7.9s\n",
      "[CV] n_estimators=100, max_features=sqrt .............................\n",
      "[CV] ............... n_estimators=95, max_features=sqrt, total=   7.9s\n",
      "[CV] .............. n_estimators=100, max_features=sqrt, total=   8.1s\n",
      "[CV] .............. n_estimators=100, max_features=sqrt, total=   8.1s\n",
      "[CV] .............. n_estimators=100, max_features=sqrt, total=   6.8s\n"
     ]
    },
    {
     "name": "stderr",
     "output_type": "stream",
     "text": [
      "[Parallel(n_jobs=-1)]: Done  60 out of  60 | elapsed:  7.3min finished\n"
     ]
    },
    {
     "data": {
      "text/plain": [
       "RandomizedSearchCV(cv=3, error_score='raise',\n",
       "          estimator=RandomForestRegressor(bootstrap=True, criterion='mse', max_depth=None,\n",
       "           max_features='auto', max_leaf_nodes=None,\n",
       "           min_impurity_decrease=0.0, min_impurity_split=None,\n",
       "           min_samples_leaf=1, min_samples_split=2,\n",
       "           min_weight_fraction_leaf=0.0, n_estimators=10, n_jobs=1,\n",
       "           oob_score=False, random_state=None, verbose=0, warm_start=False),\n",
       "          fit_params=None, iid=True, n_iter=20, n_jobs=-1,\n",
       "          param_distributions={'n_estimators': [60, 64, 68, 73, 77, 82, 86, 91, 95, 100], 'max_features': ['auto', 'sqrt']},\n",
       "          pre_dispatch='2*n_jobs', random_state=42, refit=True,\n",
       "          return_train_score='warn', scoring=None, verbose=2)"
      ]
     },
     "execution_count": 6,
     "metadata": {},
     "output_type": "execute_result"
    }
   ],
   "source": [
    "# Use the random grid to search for best hyperparameters\n",
    "# First create the base model to tune\n",
    "rf = RandomForestRegressor()\n",
    "# Random search of parameters, using 3 fold cross validation, \n",
    "rf_random = RandomizedSearchCV(estimator = rf, param_distributions = random_grid, n_iter = 20, cv = 3, verbose=2, random_state=42, n_jobs = -1)\n",
    "# Fit the random search model\n",
    "rf_random.fit(X_train, y_train)"
   ]
  },
  {
   "cell_type": "markdown",
   "metadata": {},
   "source": [
    "## Get best parameters from random search"
   ]
  },
  {
   "cell_type": "code",
   "execution_count": 7,
   "metadata": {},
   "outputs": [
    {
     "data": {
      "text/plain": [
       "{'max_features': 'auto', 'n_estimators': 95}"
      ]
     },
     "execution_count": 7,
     "metadata": {},
     "output_type": "execute_result"
    }
   ],
   "source": [
    "rf_random.best_params_"
   ]
  },
  {
   "cell_type": "markdown",
   "metadata": {},
   "source": [
    "## Create regressor based on the best parameters"
   ]
  },
  {
   "cell_type": "code",
   "execution_count": 8,
   "metadata": {},
   "outputs": [
    {
     "data": {
      "text/plain": [
       "RandomForestRegressor(bootstrap=True, criterion='mse', max_depth=None,\n",
       "           max_features='auto', max_leaf_nodes=None,\n",
       "           min_impurity_decrease=0.0, min_impurity_split=None,\n",
       "           min_samples_leaf=1, min_samples_split=2,\n",
       "           min_weight_fraction_leaf=0.0, n_estimators=95, n_jobs=1,\n",
       "           oob_score=False, random_state=None, verbose=0, warm_start=False)"
      ]
     },
     "execution_count": 8,
     "metadata": {},
     "output_type": "execute_result"
    }
   ],
   "source": [
    "regressor = RandomForestRegressor(max_features='auto', n_estimators=95)\n",
    "regressor.fit(X_train,y_train)"
   ]
  },
  {
   "cell_type": "markdown",
   "metadata": {},
   "source": [
    "# Ridge regressor"
   ]
  },
  {
   "cell_type": "code",
   "execution_count": 9,
   "metadata": {},
   "outputs": [],
   "source": [
    "from sklearn.linear_model import RidgeCV\n",
    "clf = RidgeCV(alphas=[0.1, 1.0, 10.0])"
   ]
  },
  {
   "cell_type": "code",
   "execution_count": 10,
   "metadata": {},
   "outputs": [
    {
     "data": {
      "text/plain": [
       "RidgeCV(alphas=[0.1, 1.0, 10.0], cv=None, fit_intercept=True, gcv_mode=None,\n",
       "    normalize=False, scoring=None, store_cv_values=False)"
      ]
     },
     "execution_count": 10,
     "metadata": {},
     "output_type": "execute_result"
    }
   ],
   "source": [
    "clf.fit(X_train, y_train) "
   ]
  },
  {
   "cell_type": "markdown",
   "metadata": {},
   "source": [
    "## Look best alpha"
   ]
  },
  {
   "cell_type": "code",
   "execution_count": 11,
   "metadata": {},
   "outputs": [
    {
     "data": {
      "text/plain": [
       "0.1"
      ]
     },
     "execution_count": 11,
     "metadata": {},
     "output_type": "execute_result"
    }
   ],
   "source": [
    "clf.alpha_"
   ]
  },
  {
   "cell_type": "markdown",
   "metadata": {},
   "source": [
    "## Evaluate both models"
   ]
  },
  {
   "cell_type": "code",
   "execution_count": 12,
   "metadata": {},
   "outputs": [
    {
     "name": "stdout",
     "output_type": "stream",
     "text": [
      "RANDOM FOREST\n",
      "explained variance score = [0.86989171].\n",
      "mse = [3999.4293343].\n",
      "r2 score = 0.87%.\n",
      "Evaluation ended\n",
      "\n",
      "RIDGE REGRESSOR\n",
      "explained variance score = [0.99999168].\n",
      "mse = [0.25571225].\n",
      "r2 score = 1.00%.\n",
      "Evaluation ended\n"
     ]
    }
   ],
   "source": [
    "print(\"RANDOM FOREST\")\n",
    "print(evaluate(regressor, X_test, y_test))\n",
    "print()\n",
    "print(\"RIDGE REGRESSOR\")\n",
    "print(evaluate(clf, X_test, y_test))"
   ]
  },
  {
   "cell_type": "markdown",
   "metadata": {},
   "source": [
    "## Results"
   ]
  },
  {
   "cell_type": "markdown",
   "metadata": {},
   "source": [
    "The winner is ridge regression with alpha 0.1."
   ]
  }
 ],
 "metadata": {
  "kernelspec": {
   "display_name": "Python 3",
   "language": "python",
   "name": "python3"
  },
  "language_info": {
   "codemirror_mode": {
    "name": "ipython",
    "version": 3
   },
   "file_extension": ".py",
   "mimetype": "text/x-python",
   "name": "python",
   "nbconvert_exporter": "python",
   "pygments_lexer": "ipython3",
   "version": "3.6.4"
  }
 },
 "nbformat": 4,
 "nbformat_minor": 2
}
